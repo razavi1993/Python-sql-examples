{
 "cells": [
  {
   "cell_type": "code",
   "execution_count": 1,
   "id": "3d05252c-8e8f-45e3-9ad8-8827825eb24e",
   "metadata": {
    "execution": {
     "iopub.execute_input": "2024-08-24T14:51:24.815839Z",
     "iopub.status.busy": "2024-08-24T14:51:24.814840Z",
     "iopub.status.idle": "2024-08-24T14:51:30.381749Z",
     "shell.execute_reply": "2024-08-24T14:51:30.379746Z",
     "shell.execute_reply.started": "2024-08-24T14:51:24.815839Z"
    }
   },
   "outputs": [],
   "source": [
    "%load_ext sql"
   ]
  },
  {
   "cell_type": "code",
   "execution_count": 2,
   "id": "4f588469-9cd7-4819-874c-5ed831b56a1c",
   "metadata": {
    "execution": {
     "iopub.execute_input": "2024-08-24T14:51:30.456746Z",
     "iopub.status.busy": "2024-08-24T14:51:30.454752Z",
     "iopub.status.idle": "2024-08-24T14:51:32.838735Z",
     "shell.execute_reply": "2024-08-24T14:51:32.834700Z",
     "shell.execute_reply.started": "2024-08-24T14:51:30.456746Z"
    }
   },
   "outputs": [
    {
     "data": {
      "text/html": [
       "<span style=\"None\">Connecting to &#x27;duckdb://&#x27;</span>"
      ],
      "text/plain": [
       "Connecting to 'duckdb://'"
      ]
     },
     "metadata": {},
     "output_type": "display_data"
    }
   ],
   "source": [
    "%sql duckdb://"
   ]
  },
  {
   "cell_type": "code",
   "execution_count": 3,
   "id": "d7266a73-1c8c-47c3-b39a-f1a617e34e86",
   "metadata": {
    "execution": {
     "iopub.execute_input": "2024-08-24T14:51:32.889697Z",
     "iopub.status.busy": "2024-08-24T14:51:32.885681Z",
     "iopub.status.idle": "2024-08-24T14:51:34.388682Z",
     "shell.execute_reply": "2024-08-24T14:51:34.385688Z",
     "shell.execute_reply.started": "2024-08-24T14:51:32.889697Z"
    }
   },
   "outputs": [
    {
     "data": {
      "text/html": [
       "<span style=\"None\">Running query in &#x27;duckdb://&#x27;</span>"
      ],
      "text/plain": [
       "Running query in 'duckdb://'"
      ]
     },
     "metadata": {},
     "output_type": "display_data"
    },
    {
     "data": {
      "text/html": [
       "<table>\n",
       "    <thead>\n",
       "        <tr>\n",
       "            <th>Count</th>\n",
       "        </tr>\n",
       "    </thead>\n",
       "    <tbody>\n",
       "        <tr>\n",
       "            <td>53940</td>\n",
       "        </tr>\n",
       "    </tbody>\n",
       "</table>"
      ],
      "text/plain": [
       "+-------+\n",
       "| Count |\n",
       "+-------+\n",
       "| 53940 |\n",
       "+-------+"
      ]
     },
     "execution_count": 3,
     "metadata": {},
     "output_type": "execute_result"
    }
   ],
   "source": [
    "%%sql\n",
    "CREATE TABLE diamonds AS SELECT * FROM 'diamonds.csv'"
   ]
  },
  {
   "cell_type": "code",
   "execution_count": 4,
   "id": "e60fa1f9-7669-4708-9ab1-b78eae8da0e5",
   "metadata": {
    "execution": {
     "iopub.execute_input": "2024-08-24T14:52:11.640290Z",
     "iopub.status.busy": "2024-08-24T14:52:11.640290Z",
     "iopub.status.idle": "2024-08-24T14:52:12.977825Z",
     "shell.execute_reply": "2024-08-24T14:52:12.975806Z",
     "shell.execute_reply.started": "2024-08-24T14:52:11.640290Z"
    }
   },
   "outputs": [
    {
     "data": {
      "text/html": [
       "<span style=\"None\">Running query in &#x27;duckdb://&#x27;</span>"
      ],
      "text/plain": [
       "Running query in 'duckdb://'"
      ]
     },
     "metadata": {},
     "output_type": "display_data"
    },
    {
     "data": {
      "text/html": [
       "<table>\n",
       "    <thead>\n",
       "        <tr>\n",
       "            <th>carat</th>\n",
       "            <th>cut</th>\n",
       "            <th>color</th>\n",
       "            <th>clarity</th>\n",
       "            <th>depth</th>\n",
       "            <th>table</th>\n",
       "            <th>price</th>\n",
       "            <th>x</th>\n",
       "            <th>y</th>\n",
       "            <th>z</th>\n",
       "        </tr>\n",
       "    </thead>\n",
       "    <tbody>\n",
       "        <tr>\n",
       "            <td>0.23</td>\n",
       "            <td>Ideal</td>\n",
       "            <td>E</td>\n",
       "            <td>SI2</td>\n",
       "            <td>61.5</td>\n",
       "            <td>55.0</td>\n",
       "            <td>326</td>\n",
       "            <td>3.95</td>\n",
       "            <td>3.98</td>\n",
       "            <td>2.43</td>\n",
       "        </tr>\n",
       "        <tr>\n",
       "            <td>0.21</td>\n",
       "            <td>Premium</td>\n",
       "            <td>E</td>\n",
       "            <td>SI1</td>\n",
       "            <td>59.8</td>\n",
       "            <td>61.0</td>\n",
       "            <td>326</td>\n",
       "            <td>3.89</td>\n",
       "            <td>3.84</td>\n",
       "            <td>2.31</td>\n",
       "        </tr>\n",
       "        <tr>\n",
       "            <td>0.23</td>\n",
       "            <td>Good</td>\n",
       "            <td>E</td>\n",
       "            <td>VS1</td>\n",
       "            <td>56.9</td>\n",
       "            <td>65.0</td>\n",
       "            <td>327</td>\n",
       "            <td>4.05</td>\n",
       "            <td>4.07</td>\n",
       "            <td>2.31</td>\n",
       "        </tr>\n",
       "        <tr>\n",
       "            <td>0.29</td>\n",
       "            <td>Premium</td>\n",
       "            <td>I</td>\n",
       "            <td>VS2</td>\n",
       "            <td>62.4</td>\n",
       "            <td>58.0</td>\n",
       "            <td>334</td>\n",
       "            <td>4.2</td>\n",
       "            <td>4.23</td>\n",
       "            <td>2.63</td>\n",
       "        </tr>\n",
       "        <tr>\n",
       "            <td>0.31</td>\n",
       "            <td>Good</td>\n",
       "            <td>J</td>\n",
       "            <td>SI2</td>\n",
       "            <td>63.3</td>\n",
       "            <td>58.0</td>\n",
       "            <td>335</td>\n",
       "            <td>4.34</td>\n",
       "            <td>4.35</td>\n",
       "            <td>2.75</td>\n",
       "        </tr>\n",
       "        <tr>\n",
       "            <td>0.24</td>\n",
       "            <td>Very Good</td>\n",
       "            <td>J</td>\n",
       "            <td>VVS2</td>\n",
       "            <td>62.8</td>\n",
       "            <td>57.0</td>\n",
       "            <td>336</td>\n",
       "            <td>3.94</td>\n",
       "            <td>3.96</td>\n",
       "            <td>2.48</td>\n",
       "        </tr>\n",
       "        <tr>\n",
       "            <td>0.24</td>\n",
       "            <td>Very Good</td>\n",
       "            <td>I</td>\n",
       "            <td>VVS1</td>\n",
       "            <td>62.3</td>\n",
       "            <td>57.0</td>\n",
       "            <td>336</td>\n",
       "            <td>3.95</td>\n",
       "            <td>3.98</td>\n",
       "            <td>2.47</td>\n",
       "        </tr>\n",
       "        <tr>\n",
       "            <td>0.26</td>\n",
       "            <td>Very Good</td>\n",
       "            <td>H</td>\n",
       "            <td>SI1</td>\n",
       "            <td>61.9</td>\n",
       "            <td>55.0</td>\n",
       "            <td>337</td>\n",
       "            <td>4.07</td>\n",
       "            <td>4.11</td>\n",
       "            <td>2.53</td>\n",
       "        </tr>\n",
       "        <tr>\n",
       "            <td>0.22</td>\n",
       "            <td>Fair</td>\n",
       "            <td>E</td>\n",
       "            <td>VS2</td>\n",
       "            <td>65.1</td>\n",
       "            <td>61.0</td>\n",
       "            <td>337</td>\n",
       "            <td>3.87</td>\n",
       "            <td>3.78</td>\n",
       "            <td>2.49</td>\n",
       "        </tr>\n",
       "        <tr>\n",
       "            <td>0.23</td>\n",
       "            <td>Very Good</td>\n",
       "            <td>H</td>\n",
       "            <td>VS1</td>\n",
       "            <td>59.4</td>\n",
       "            <td>61.0</td>\n",
       "            <td>338</td>\n",
       "            <td>4.0</td>\n",
       "            <td>4.05</td>\n",
       "            <td>2.39</td>\n",
       "        </tr>\n",
       "    </tbody>\n",
       "</table>\n",
       "<span style=\"font-style:italic;text-align:center;\">Truncated to <a href=\"https://jupysql.ploomber.io/en/latest/api/configuration.html#displaylimit\">displaylimit</a> of 10.</span>"
      ],
      "text/plain": [
       "+-------+-----------+-------+---------+-------+-------+-------+------+------+------+\n",
       "| carat |    cut    | color | clarity | depth | table | price |  x   |  y   |  z   |\n",
       "+-------+-----------+-------+---------+-------+-------+-------+------+------+------+\n",
       "|  0.23 |   Ideal   |   E   |   SI2   |  61.5 |  55.0 |  326  | 3.95 | 3.98 | 2.43 |\n",
       "|  0.21 |  Premium  |   E   |   SI1   |  59.8 |  61.0 |  326  | 3.89 | 3.84 | 2.31 |\n",
       "|  0.23 |    Good   |   E   |   VS1   |  56.9 |  65.0 |  327  | 4.05 | 4.07 | 2.31 |\n",
       "|  0.29 |  Premium  |   I   |   VS2   |  62.4 |  58.0 |  334  | 4.2  | 4.23 | 2.63 |\n",
       "|  0.31 |    Good   |   J   |   SI2   |  63.3 |  58.0 |  335  | 4.34 | 4.35 | 2.75 |\n",
       "|  0.24 | Very Good |   J   |   VVS2  |  62.8 |  57.0 |  336  | 3.94 | 3.96 | 2.48 |\n",
       "|  0.24 | Very Good |   I   |   VVS1  |  62.3 |  57.0 |  336  | 3.95 | 3.98 | 2.47 |\n",
       "|  0.26 | Very Good |   H   |   SI1   |  61.9 |  55.0 |  337  | 4.07 | 4.11 | 2.53 |\n",
       "|  0.22 |    Fair   |   E   |   VS2   |  65.1 |  61.0 |  337  | 3.87 | 3.78 | 2.49 |\n",
       "|  0.23 | Very Good |   H   |   VS1   |  59.4 |  61.0 |  338  | 4.0  | 4.05 | 2.39 |\n",
       "+-------+-----------+-------+---------+-------+-------+-------+------+------+------+\n",
       "Truncated to displaylimit of 10."
      ]
     },
     "execution_count": 4,
     "metadata": {},
     "output_type": "execute_result"
    }
   ],
   "source": [
    "%sql SELECT * FROM diamonds"
   ]
  },
  {
   "cell_type": "code",
   "execution_count": 11,
   "id": "a7c80457-954e-458c-aeb7-279154bdd2ed",
   "metadata": {
    "execution": {
     "iopub.execute_input": "2024-08-24T14:56:00.465890Z",
     "iopub.status.busy": "2024-08-24T14:56:00.463889Z",
     "iopub.status.idle": "2024-08-24T14:56:01.795701Z",
     "shell.execute_reply": "2024-08-24T14:56:01.791695Z",
     "shell.execute_reply.started": "2024-08-24T14:56:00.465890Z"
    }
   },
   "outputs": [
    {
     "data": {
      "text/html": [
       "<span style=\"None\">Running query in &#x27;duckdb://&#x27;</span>"
      ],
      "text/plain": [
       "Running query in 'duckdb://'"
      ]
     },
     "metadata": {},
     "output_type": "display_data"
    },
    {
     "data": {
      "text/html": [
       "<table>\n",
       "    <thead>\n",
       "        <tr>\n",
       "            <th>avg(carat)</th>\n",
       "            <th>cut</th>\n",
       "            <th>color</th>\n",
       "            <th>clarity</th>\n",
       "            <th>avg(depth)</th>\n",
       "            <th>avg(price)</th>\n",
       "            <th>avg(x)</th>\n",
       "            <th>avg(y)</th>\n",
       "            <th>avg(z)</th>\n",
       "        </tr>\n",
       "    </thead>\n",
       "    <tbody>\n",
       "        <tr>\n",
       "            <td>0.7723346303501946</td>\n",
       "            <td>Very Good</td>\n",
       "            <td>H</td>\n",
       "            <td>VS1</td>\n",
       "            <td>62.00466926070033</td>\n",
       "            <td>3750.1984435797667</td>\n",
       "            <td>5.677276264591437</td>\n",
       "            <td>5.704319066147857</td>\n",
       "            <td>3.527782101167315</td>\n",
       "        </tr>\n",
       "        <tr>\n",
       "            <td>1.4625</td>\n",
       "            <td>Very Good</td>\n",
       "            <td>J</td>\n",
       "            <td>I1</td>\n",
       "            <td>61.737500000000004</td>\n",
       "            <td>4478.375</td>\n",
       "            <td>7.1812499999999995</td>\n",
       "            <td>7.18625</td>\n",
       "            <td>4.43375</td>\n",
       "        </tr>\n",
       "        <tr>\n",
       "            <td>0.9854146341463416</td>\n",
       "            <td>Very Good</td>\n",
       "            <td>I</td>\n",
       "            <td>VS1</td>\n",
       "            <td>61.94780487804875</td>\n",
       "            <td>5276.970731707317</td>\n",
       "            <td>6.1474634146341485</td>\n",
       "            <td>6.169317073170731</td>\n",
       "            <td>3.812048780487801</td>\n",
       "        </tr>\n",
       "        <tr>\n",
       "            <td>0.49373563218390776</td>\n",
       "            <td>Very Good</td>\n",
       "            <td>F</td>\n",
       "            <td>VVS1</td>\n",
       "            <td>61.545977011494294</td>\n",
       "            <td>2826.5402298850577</td>\n",
       "            <td>4.886954022988505</td>\n",
       "            <td>4.916781609195402</td>\n",
       "            <td>3.0170689655172427</td>\n",
       "        </tr>\n",
       "        <tr>\n",
       "            <td>1.2107692307692308</td>\n",
       "            <td>Very Good</td>\n",
       "            <td>F</td>\n",
       "            <td>I1</td>\n",
       "            <td>61.56153846153847</td>\n",
       "            <td>4252.923076923077</td>\n",
       "            <td>6.7176923076923085</td>\n",
       "            <td>6.714615384615385</td>\n",
       "            <td>4.125384615384616</td>\n",
       "        </tr>\n",
       "        <tr>\n",
       "            <td>0.765263157894737</td>\n",
       "            <td>Very Good</td>\n",
       "            <td>J</td>\n",
       "            <td>VVS1</td>\n",
       "            <td>61.68421052631579</td>\n",
       "            <td>3175.5263157894738</td>\n",
       "            <td>5.6615789473684215</td>\n",
       "            <td>5.708421052631579</td>\n",
       "            <td>3.513157894736842</td>\n",
       "        </tr>\n",
       "        <tr>\n",
       "            <td>0.6506953642384117</td>\n",
       "            <td>Very Good</td>\n",
       "            <td>G</td>\n",
       "            <td>VVS2</td>\n",
       "            <td>61.82152317880793</td>\n",
       "            <td>3711.7847682119204</td>\n",
       "            <td>5.34847682119205</td>\n",
       "            <td>5.381158940397345</td>\n",
       "            <td>3.316158940397355</td>\n",
       "        </tr>\n",
       "        <tr>\n",
       "            <td>1.1405434782608694</td>\n",
       "            <td>Very Good</td>\n",
       "            <td>J</td>\n",
       "            <td>VS2</td>\n",
       "            <td>61.86847826086957</td>\n",
       "            <td>5325.548913043478</td>\n",
       "            <td>6.48010869565217</td>\n",
       "            <td>6.513750000000001</td>\n",
       "            <td>4.0175</td>\n",
       "        </tr>\n",
       "        <tr>\n",
       "            <td>0.5833714285714285</td>\n",
       "            <td>Very Good</td>\n",
       "            <td>D</td>\n",
       "            <td>VS1</td>\n",
       "            <td>61.55314285714281</td>\n",
       "            <td>2955.48</td>\n",
       "            <td>5.216799999999999</td>\n",
       "            <td>5.25034285714286</td>\n",
       "            <td>3.220114285714286</td>\n",
       "        </tr>\n",
       "        <tr>\n",
       "            <td>0.7857594936708836</td>\n",
       "            <td>Very Good</td>\n",
       "            <td>G</td>\n",
       "            <td>SI1</td>\n",
       "            <td>61.9635021097046</td>\n",
       "            <td>3481.8713080168777</td>\n",
       "            <td>5.731265822784808</td>\n",
       "            <td>5.761729957805904</td>\n",
       "            <td>3.5608227848101244</td>\n",
       "        </tr>\n",
       "    </tbody>\n",
       "</table>\n",
       "<span style=\"font-style:italic;text-align:center;\">Truncated to <a href=\"https://jupysql.ploomber.io/en/latest/api/configuration.html#displaylimit\">displaylimit</a> of 10.</span>"
      ],
      "text/plain": [
       "+---------------------+-----------+-------+---------+--------------------+--------------------+--------------------+-------------------+--------------------+\n",
       "|      avg(carat)     |    cut    | color | clarity |     avg(depth)     |     avg(price)     |       avg(x)       |       avg(y)      |       avg(z)       |\n",
       "+---------------------+-----------+-------+---------+--------------------+--------------------+--------------------+-------------------+--------------------+\n",
       "|  0.7723346303501946 | Very Good |   H   |   VS1   | 62.00466926070033  | 3750.1984435797667 | 5.677276264591437  | 5.704319066147857 | 3.527782101167315  |\n",
       "|        1.4625       | Very Good |   J   |    I1   | 61.737500000000004 |      4478.375      | 7.1812499999999995 |      7.18625      |      4.43375       |\n",
       "|  0.9854146341463416 | Very Good |   I   |   VS1   | 61.94780487804875  | 5276.970731707317  | 6.1474634146341485 | 6.169317073170731 | 3.812048780487801  |\n",
       "| 0.49373563218390776 | Very Good |   F   |   VVS1  | 61.545977011494294 | 2826.5402298850577 | 4.886954022988505  | 4.916781609195402 | 3.0170689655172427 |\n",
       "|  1.2107692307692308 | Very Good |   F   |    I1   | 61.56153846153847  | 4252.923076923077  | 6.7176923076923085 | 6.714615384615385 | 4.125384615384616  |\n",
       "|  0.765263157894737  | Very Good |   J   |   VVS1  | 61.68421052631579  | 3175.5263157894738 | 5.6615789473684215 | 5.708421052631579 | 3.513157894736842  |\n",
       "|  0.6506953642384117 | Very Good |   G   |   VVS2  | 61.82152317880793  | 3711.7847682119204 |  5.34847682119205  | 5.381158940397345 | 3.316158940397355  |\n",
       "|  1.1405434782608694 | Very Good |   J   |   VS2   | 61.86847826086957  | 5325.548913043478  |  6.48010869565217  | 6.513750000000001 |       4.0175       |\n",
       "|  0.5833714285714285 | Very Good |   D   |   VS1   | 61.55314285714281  |      2955.48       | 5.216799999999999  |  5.25034285714286 | 3.220114285714286  |\n",
       "|  0.7857594936708836 | Very Good |   G   |   SI1   |  61.9635021097046  | 3481.8713080168777 | 5.731265822784808  | 5.761729957805904 | 3.5608227848101244 |\n",
       "+---------------------+-----------+-------+---------+--------------------+--------------------+--------------------+-------------------+--------------------+\n",
       "Truncated to displaylimit of 10."
      ]
     },
     "execution_count": 11,
     "metadata": {},
     "output_type": "execute_result"
    }
   ],
   "source": [
    "%%sql \n",
    "SELECT AVG(carat), cut, color, clarity, AVG(depth),  AVG(price), AVG(x), AVG(y), AVG(z) \n",
    "    FROM  diamonds GROUP By cut, color, clarity ORDER BY cut DESC"
   ]
  },
  {
   "cell_type": "code",
   "execution_count": 12,
   "id": "e2637ed4-8245-4bae-b707-4ed396f4ed94",
   "metadata": {
    "execution": {
     "iopub.execute_input": "2024-08-24T14:56:56.570870Z",
     "iopub.status.busy": "2024-08-24T14:56:56.568870Z",
     "iopub.status.idle": "2024-08-24T14:56:58.609234Z",
     "shell.execute_reply": "2024-08-24T14:56:58.608236Z",
     "shell.execute_reply.started": "2024-08-24T14:56:56.570870Z"
    }
   },
   "outputs": [
    {
     "data": {
      "text/html": [
       "<span style=\"None\">Removing NULLs, if there exists any from color</span>"
      ],
      "text/plain": [
       "Removing NULLs, if there exists any from color"
      ]
     },
     "metadata": {},
     "output_type": "display_data"
    },
    {
     "data": {
      "text/plain": [
       "<Axes: title={'center': 'diamonds'}, xlabel='color', ylabel='Count'>"
      ]
     },
     "execution_count": 12,
     "metadata": {},
     "output_type": "execute_result"
    },
    {
     "data": {
      "image/png": "[encoded data removed]",
      "text/plain": [
       "<Figure size 640x480 with 1 Axes>"
      ]
     },
     "metadata": {},
     "output_type": "display_data"
    }
   ],
   "source": [
    "%sqlplot bar --table diamonds --column color"
   ]
  },
  {
   "cell_type": "code",
   "execution_count": 14,
   "id": "21dd6e3e-542f-4335-a428-f459e828486c",
   "metadata": {
    "execution": {
     "iopub.execute_input": "2024-08-24T15:01:53.773857Z",
     "iopub.status.busy": "2024-08-24T15:01:53.772834Z",
     "iopub.status.idle": "2024-08-24T15:01:55.927602Z",
     "shell.execute_reply": "2024-08-24T15:01:55.925579Z",
     "shell.execute_reply.started": "2024-08-24T15:01:53.773857Z"
    }
   },
   "outputs": [
    {
     "data": {
      "text/plain": [
       "<Axes: title={'center': \"'price' from 'diamonds'\"}, xlabel='price', ylabel='Count'>"
      ]
     },
     "execution_count": 14,
     "metadata": {},
     "output_type": "execute_result"
    },
    {
     "data": {
      "image/png": "[encoded data removed]",
      "text/plain": [
       "<Figure size 640x480 with 1 Axes>"
      ]
     },
     "metadata": {},
     "output_type": "display_data"
    }
   ],
   "source": [
    "%sqlplot histogram --table diamonds --column price"
   ]
  },
  {
   "cell_type": "code",
   "execution_count": 15,
   "id": "ab38e6a2-2aab-4f08-85c8-cce0aeb4ecef",
   "metadata": {
    "execution": {
     "iopub.execute_input": "2024-08-24T15:02:45.839363Z",
     "iopub.status.busy": "2024-08-24T15:02:45.839363Z",
     "iopub.status.idle": "2024-08-24T15:02:47.406735Z",
     "shell.execute_reply": "2024-08-24T15:02:47.404734Z",
     "shell.execute_reply.started": "2024-08-24T15:02:45.839363Z"
    }
   },
   "outputs": [
    {
     "data": {
      "text/html": [
       "<span style=\"None\">Removing NULLs, if there exists any from color</span>"
      ],
      "text/plain": [
       "Removing NULLs, if there exists any from color"
      ]
     },
     "metadata": {},
     "output_type": "display_data"
    },
    {
     "data": {
      "text/plain": [
       "<Axes: title={'center': 'diamonds'}>"
      ]
     },
     "execution_count": 15,
     "metadata": {},
     "output_type": "execute_result"
    },
    {
     "data": {
      "image/png": "[encoded data removed]",
      "text/plain": [
       "<Figure size 640x480 with 1 Axes>"
      ]
     },
     "metadata": {},
     "output_type": "display_data"
    }
   ],
   "source": [
    "%sqlplot pie --table diamonds --column color "
   ]
  },
  {
   "cell_type": "code",
   "execution_count": 21,
   "id": "41d04351-8852-445d-88bc-ce77013ec5cc",
   "metadata": {
    "execution": {
     "iopub.execute_input": "2024-08-24T15:07:41.695198Z",
     "iopub.status.busy": "2024-08-24T15:07:41.693200Z",
     "iopub.status.idle": "2024-08-24T15:07:41.720346Z",
     "shell.execute_reply": "2024-08-24T15:07:41.719350Z",
     "shell.execute_reply.started": "2024-08-24T15:07:41.695198Z"
    }
   },
   "outputs": [],
   "source": [
    "from sql.ggplot import ggplot, aes, geom_boxplot, geom_histogram, facet_wrap"
   ]
  },
  {
   "cell_type": "code",
   "execution_count": 25,
   "id": "1ccccadb-2c83-4674-ad98-8aa92e695a73",
   "metadata": {
    "execution": {
     "iopub.execute_input": "2024-08-24T15:09:48.421589Z",
     "iopub.status.busy": "2024-08-24T15:09:48.419571Z",
     "iopub.status.idle": "2024-08-24T15:10:20.612354Z",
     "shell.execute_reply": "2024-08-24T15:10:20.611348Z",
     "shell.execute_reply.started": "2024-08-24T15:09:48.421589Z"
    }
   },
   "outputs": [
    {
     "data": {
      "text/plain": [
       "<sql.ggplot.ggplot.ggplot at 0x2adb1418610>"
      ]
     },
     "execution_count": 25,
     "metadata": {},
     "output_type": "execute_result"
    },
    {
     "data": {
      "image/png": "[encoded data removed]",
      "text/plain": [
       "<Figure size 640x480 with 8 Axes>"
      ]
     },
     "metadata": {},
     "output_type": "display_data"
    }
   ],
   "source": [
    "(\n",
    "    ggplot(\"diamonds\", aes(x=\"price\"))\n",
    "    + geom_histogram(bins=10, fill=\"cut\")\n",
    "    + facet_wrap(\"clarity\", legend=False)\n",
    ")"
   ]
  },
  {
   "cell_type": "code",
   "execution_count": null,
   "id": "7482b3a7-01ba-4772-a776-218e185f94c4",
   "metadata": {},
   "outputs": [],
   "source": []
  }
 ],
 "metadata": {
  "kernelspec": {
   "display_name": "Python 3 (ipykernel)",
   "language": "python",
   "name": "python3"
  },
  "language_info": {
   "codemirror_mode": {
    "name": "ipython",
    "version": 3
   },
   "file_extension": ".py",
   "mimetype": "text/x-python",
   "name": "python",
   "nbconvert_exporter": "python",
   "pygments_lexer": "ipython3",
   "version": "3.11.5"
  }
 },
 "nbformat": 4,
 "nbformat_minor": 5
}
