{
 "cells": [
  {
   "cell_type": "code",
   "execution_count": 1,
   "id": "16de48b0-ef81-45d7-9068-6578f10e9c07",
   "metadata": {
    "execution": {
     "iopub.execute_input": "2024-08-24T11:15:07.337157Z",
     "iopub.status.busy": "2024-08-24T11:15:07.336140Z",
     "iopub.status.idle": "2024-08-24T11:15:12.105874Z",
     "shell.execute_reply": "2024-08-24T11:15:12.103915Z",
     "shell.execute_reply.started": "2024-08-24T11:15:07.337157Z"
    }
   },
   "outputs": [],
   "source": [
    "%load_ext sql"
   ]
  },
  {
   "cell_type": "code",
   "execution_count": 2,
   "id": "1e9feaa0-dab8-4a4a-aaa6-1b15ac73df9c",
   "metadata": {
    "execution": {
     "iopub.execute_input": "2024-08-24T11:15:12.108886Z",
     "iopub.status.busy": "2024-08-24T11:15:12.107868Z",
     "iopub.status.idle": "2024-08-24T11:15:12.904910Z",
     "shell.execute_reply": "2024-08-24T11:15:12.903906Z",
     "shell.execute_reply.started": "2024-08-24T11:15:12.108886Z"
    }
   },
   "outputs": [
    {
     "data": {
      "text/html": [
       "<span style=\"None\">Connecting to &#x27;sqlite://&#x27;</span>"
      ],
      "text/plain": [
       "Connecting to 'sqlite://'"
      ]
     },
     "metadata": {},
     "output_type": "display_data"
    }
   ],
   "source": [
    "%sql sqlite://"
   ]
  },
  {
   "cell_type": "code",
   "execution_count": 3,
   "id": "7b296daf-37a6-4550-835a-30bd02948b02",
   "metadata": {
    "execution": {
     "iopub.execute_input": "2024-08-24T11:15:12.907910Z",
     "iopub.status.busy": "2024-08-24T11:15:12.907910Z",
     "iopub.status.idle": "2024-08-24T11:15:13.744372Z",
     "shell.execute_reply": "2024-08-24T11:15:13.742817Z",
     "shell.execute_reply.started": "2024-08-24T11:15:12.907910Z"
    }
   },
   "outputs": [
    {
     "data": {
      "text/html": [
       "<span style=\"None\">Running query in &#x27;sqlite://&#x27;</span>"
      ],
      "text/plain": [
       "Running query in 'sqlite://'"
      ]
     },
     "metadata": {},
     "output_type": "display_data"
    },
    {
     "data": {
      "text/html": [
       "<span style=\"color: green\">1 rows affected.</span>"
      ],
      "text/plain": [
       "1 rows affected."
      ]
     },
     "metadata": {},
     "output_type": "display_data"
    },
    {
     "data": {
      "text/html": [
       "<span style=\"color: green\">1 rows affected.</span>"
      ],
      "text/plain": [
       "1 rows affected."
      ]
     },
     "metadata": {},
     "output_type": "display_data"
    },
    {
     "data": {
      "text/html": [
       "<span style=\"color: green\">1 rows affected.</span>"
      ],
      "text/plain": [
       "1 rows affected."
      ]
     },
     "metadata": {},
     "output_type": "display_data"
    },
    {
     "data": {
      "text/html": [
       "<span style=\"color: green\">1 rows affected.</span>"
      ],
      "text/plain": [
       "1 rows affected."
      ]
     },
     "metadata": {},
     "output_type": "display_data"
    },
    {
     "data": {
      "text/html": [
       "<span style=\"color: green\">1 rows affected.</span>"
      ],
      "text/plain": [
       "1 rows affected."
      ]
     },
     "metadata": {},
     "output_type": "display_data"
    },
    {
     "data": {
      "text/html": [
       "<span style=\"color: green\">1 rows affected.</span>"
      ],
      "text/plain": [
       "1 rows affected."
      ]
     },
     "metadata": {},
     "output_type": "display_data"
    },
    {
     "data": {
      "text/html": [
       "<span style=\"color: green\">1 rows affected.</span>"
      ],
      "text/plain": [
       "1 rows affected."
      ]
     },
     "metadata": {},
     "output_type": "display_data"
    },
    {
     "data": {
      "text/html": [
       "<table>\n",
       "    <thead>\n",
       "        <tr>\n",
       "        </tr>\n",
       "    </thead>\n",
       "    <tbody>\n",
       "    </tbody>\n",
       "</table>"
      ],
      "text/plain": [
       "++\n",
       "||\n",
       "++\n",
       "++"
      ]
     },
     "execution_count": 3,
     "metadata": {},
     "output_type": "execute_result"
    }
   ],
   "source": [
    "%%sql\n",
    "CREATE TABLE worldcups (country, champion, year);\n",
    "INSERT INTO worldcups VAlUES ('France', 'France', 1998);\n",
    "INSERT INTO worldcups VALUES ('South Korea', 'Brazil', 2002);\n",
    "INSERT INTO worldcups VAlUES ('Germany', 'Italy', 2006);\n",
    "INSERT INTO worldcups VALUES ('South Africa', 'Spain', 2010);\n",
    "INSERT INTO worldcups VAlUES ('Brazil', 'Germany', 2014);\n",
    "INSERT INTO worldcups VAlUES ('Russia', 'France', 2018);\n",
    "INSERT INTO worldcups VALUES ('Qatar', 'Argentina', 2022);"
   ]
  },
  {
   "cell_type": "code",
   "execution_count": 4,
   "id": "09fd77a6-8b23-4f12-9e97-6e758bf76ad0",
   "metadata": {
    "execution": {
     "iopub.execute_input": "2024-08-24T11:15:13.749373Z",
     "iopub.status.busy": "2024-08-24T11:15:13.747374Z",
     "iopub.status.idle": "2024-08-24T11:15:14.492968Z",
     "shell.execute_reply": "2024-08-24T11:15:14.491960Z",
     "shell.execute_reply.started": "2024-08-24T11:15:13.749373Z"
    }
   },
   "outputs": [
    {
     "data": {
      "text/html": [
       "<span style=\"None\">Running query in &#x27;sqlite://&#x27;</span>"
      ],
      "text/plain": [
       "Running query in 'sqlite://'"
      ]
     },
     "metadata": {},
     "output_type": "display_data"
    },
    {
     "data": {
      "text/html": [
       "<table>\n",
       "    <thead>\n",
       "        <tr>\n",
       "            <th>country</th>\n",
       "            <th>champion</th>\n",
       "            <th>year</th>\n",
       "        </tr>\n",
       "    </thead>\n",
       "    <tbody>\n",
       "        <tr>\n",
       "            <td>France</td>\n",
       "            <td>France</td>\n",
       "            <td>1998</td>\n",
       "        </tr>\n",
       "        <tr>\n",
       "            <td>South Korea</td>\n",
       "            <td>Brazil</td>\n",
       "            <td>2002</td>\n",
       "        </tr>\n",
       "        <tr>\n",
       "            <td>Germany</td>\n",
       "            <td>Italy</td>\n",
       "            <td>2006</td>\n",
       "        </tr>\n",
       "        <tr>\n",
       "            <td>South Africa</td>\n",
       "            <td>Spain</td>\n",
       "            <td>2010</td>\n",
       "        </tr>\n",
       "        <tr>\n",
       "            <td>Brazil</td>\n",
       "            <td>Germany</td>\n",
       "            <td>2014</td>\n",
       "        </tr>\n",
       "        <tr>\n",
       "            <td>Russia</td>\n",
       "            <td>France</td>\n",
       "            <td>2018</td>\n",
       "        </tr>\n",
       "        <tr>\n",
       "            <td>Qatar</td>\n",
       "            <td>Argentina</td>\n",
       "            <td>2022</td>\n",
       "        </tr>\n",
       "    </tbody>\n",
       "</table>"
      ],
      "text/plain": [
       "+--------------+-----------+------+\n",
       "|   country    |  champion | year |\n",
       "+--------------+-----------+------+\n",
       "|    France    |   France  | 1998 |\n",
       "| South Korea  |   Brazil  | 2002 |\n",
       "|   Germany    |   Italy   | 2006 |\n",
       "| South Africa |   Spain   | 2010 |\n",
       "|    Brazil    |  Germany  | 2014 |\n",
       "|    Russia    |   France  | 2018 |\n",
       "|    Qatar     | Argentina | 2022 |\n",
       "+--------------+-----------+------+"
      ]
     },
     "execution_count": 4,
     "metadata": {},
     "output_type": "execute_result"
    }
   ],
   "source": [
    "%sql SELECT * FROM worldcups"
   ]
  },
  {
   "cell_type": "code",
   "execution_count": 5,
   "id": "5bfb4575-7ea9-4bb9-91af-7b3133705531",
   "metadata": {
    "execution": {
     "iopub.execute_input": "2024-08-24T11:15:14.494969Z",
     "iopub.status.busy": "2024-08-24T11:15:14.494969Z",
     "iopub.status.idle": "2024-08-24T11:15:15.240010Z",
     "shell.execute_reply": "2024-08-24T11:15:15.238988Z",
     "shell.execute_reply.started": "2024-08-24T11:15:14.494969Z"
    }
   },
   "outputs": [
    {
     "data": {
      "text/html": [
       "<span style=\"None\">Running query in &#x27;sqlite://&#x27;</span>"
      ],
      "text/plain": [
       "Running query in 'sqlite://'"
      ]
     },
     "metadata": {},
     "output_type": "display_data"
    },
    {
     "data": {
      "text/html": [
       "<table>\n",
       "    <thead>\n",
       "        <tr>\n",
       "            <th>count(*)</th>\n",
       "        </tr>\n",
       "    </thead>\n",
       "    <tbody>\n",
       "        <tr>\n",
       "            <td>2</td>\n",
       "        </tr>\n",
       "    </tbody>\n",
       "</table>"
      ],
      "text/plain": [
       "+----------+\n",
       "| count(*) |\n",
       "+----------+\n",
       "|    2     |\n",
       "+----------+"
      ]
     },
     "execution_count": 5,
     "metadata": {},
     "output_type": "execute_result"
    }
   ],
   "source": [
    "%sql SELECT count(*) FROM worldcups WHERE champion = 'France'"
   ]
  },
  {
   "cell_type": "code",
   "execution_count": 6,
   "id": "9472fa5d-cb38-48ba-8af9-c9b7f9083a06",
   "metadata": {
    "execution": {
     "iopub.execute_input": "2024-08-24T11:15:15.243031Z",
     "iopub.status.busy": "2024-08-24T11:15:15.243031Z",
     "iopub.status.idle": "2024-08-24T11:15:16.007252Z",
     "shell.execute_reply": "2024-08-24T11:15:16.006249Z",
     "shell.execute_reply.started": "2024-08-24T11:15:15.243031Z"
    }
   },
   "outputs": [
    {
     "data": {
      "text/html": [
       "<span style=\"None\">Running query in &#x27;sqlite://&#x27;</span>"
      ],
      "text/plain": [
       "Running query in 'sqlite://'"
      ]
     },
     "metadata": {},
     "output_type": "display_data"
    },
    {
     "data": {
      "text/html": [
       "<table>\n",
       "    <thead>\n",
       "        <tr>\n",
       "            <th>champion</th>\n",
       "            <th>count(champion)</th>\n",
       "        </tr>\n",
       "    </thead>\n",
       "    <tbody>\n",
       "        <tr>\n",
       "            <td>France</td>\n",
       "            <td>2</td>\n",
       "        </tr>\n",
       "        <tr>\n",
       "            <td>Brazil</td>\n",
       "            <td>1</td>\n",
       "        </tr>\n",
       "        <tr>\n",
       "            <td>Italy</td>\n",
       "            <td>1</td>\n",
       "        </tr>\n",
       "        <tr>\n",
       "            <td>Spain</td>\n",
       "            <td>1</td>\n",
       "        </tr>\n",
       "        <tr>\n",
       "            <td>Germany</td>\n",
       "            <td>1</td>\n",
       "        </tr>\n",
       "        <tr>\n",
       "            <td>Argentina</td>\n",
       "            <td>1</td>\n",
       "        </tr>\n",
       "    </tbody>\n",
       "</table>"
      ],
      "text/plain": [
       "+-----------+-----------------+\n",
       "|  champion | count(champion) |\n",
       "+-----------+-----------------+\n",
       "|   France  |        2        |\n",
       "|   Brazil  |        1        |\n",
       "|   Italy   |        1        |\n",
       "|   Spain   |        1        |\n",
       "|  Germany  |        1        |\n",
       "| Argentina |        1        |\n",
       "+-----------+-----------------+"
      ]
     },
     "execution_count": 6,
     "metadata": {},
     "output_type": "execute_result"
    }
   ],
   "source": [
    "%sql SELECT champion, count(champion) FROM worldcups GROUP BY champion ORDER BY year ASC"
   ]
  },
  {
   "cell_type": "code",
   "execution_count": null,
   "id": "214e3be9-8ea8-45c2-b45d-a9e5dd755ec4",
   "metadata": {},
   "outputs": [],
   "source": []
  }
 ],
 "metadata": {
  "kernelspec": {
   "display_name": "Python 3 (ipykernel)",
   "language": "python",
   "name": "python3"
  },
  "language_info": {
   "codemirror_mode": {
    "name": "ipython",
    "version": 3
   },
   "file_extension": ".py",
   "mimetype": "text/x-python",
   "name": "python",
   "nbconvert_exporter": "python",
   "pygments_lexer": "ipython3",
   "version": "3.11.5"
  }
 },
 "nbformat": 4,
 "nbformat_minor": 5
}
