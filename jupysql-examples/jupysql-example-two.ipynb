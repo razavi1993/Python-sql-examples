{
 "cells": [
  {
   "cell_type": "code",
   "execution_count": 1,
   "id": "74f46483-37b5-49fc-b7a3-f416f48fea4c",
   "metadata": {
    "execution": {
     "iopub.execute_input": "2024-08-24T11:39:57.940567Z",
     "iopub.status.busy": "2024-08-24T11:39:57.939554Z",
     "iopub.status.idle": "2024-08-24T11:40:11.313357Z",
     "shell.execute_reply": "2024-08-24T11:40:11.309399Z",
     "shell.execute_reply.started": "2024-08-24T11:39:57.940567Z"
    }
   },
   "outputs": [],
   "source": [
    "%load_ext sql"
   ]
  },
  {
   "cell_type": "code",
   "execution_count": 2,
   "id": "14e2ee7e-9dd7-4042-a17f-5c174f91976f",
   "metadata": {
    "execution": {
     "iopub.execute_input": "2024-08-24T11:40:11.318357Z",
     "iopub.status.busy": "2024-08-24T11:40:11.316357Z",
     "iopub.status.idle": "2024-08-24T11:40:13.147071Z",
     "shell.execute_reply": "2024-08-24T11:40:13.145070Z",
     "shell.execute_reply.started": "2024-08-24T11:40:11.318357Z"
    }
   },
   "outputs": [
    {
     "data": {
      "text/html": [
       "<span style=\"None\">Connecting to &#x27;sqlite://&#x27;</span>"
      ],
      "text/plain": [
       "Connecting to 'sqlite://'"
      ]
     },
     "metadata": {},
     "output_type": "display_data"
    }
   ],
   "source": [
    "%sql sqlite://"
   ]
  },
  {
   "cell_type": "code",
   "execution_count": 3,
   "id": "d249c6c1-a56a-4a90-a1ac-ba6b0258565b",
   "metadata": {
    "execution": {
     "iopub.execute_input": "2024-08-24T11:40:13.154068Z",
     "iopub.status.busy": "2024-08-24T11:40:13.153072Z",
     "iopub.status.idle": "2024-08-24T11:40:14.583908Z",
     "shell.execute_reply": "2024-08-24T11:40:14.581918Z",
     "shell.execute_reply.started": "2024-08-24T11:40:13.154068Z"
    }
   },
   "outputs": [
    {
     "data": {
      "text/html": [
       "<span style=\"None\">Running query in &#x27;sqlite://&#x27;</span>"
      ],
      "text/plain": [
       "Running query in 'sqlite://'"
      ]
     },
     "metadata": {},
     "output_type": "display_data"
    },
    {
     "data": {
      "text/html": [
       "<span style=\"color: green\">1 rows affected.</span>"
      ],
      "text/plain": [
       "1 rows affected."
      ]
     },
     "metadata": {},
     "output_type": "display_data"
    },
    {
     "data": {
      "text/html": [
       "<span style=\"color: green\">1 rows affected.</span>"
      ],
      "text/plain": [
       "1 rows affected."
      ]
     },
     "metadata": {},
     "output_type": "display_data"
    },
    {
     "data": {
      "text/html": [
       "<span style=\"color: green\">1 rows affected.</span>"
      ],
      "text/plain": [
       "1 rows affected."
      ]
     },
     "metadata": {},
     "output_type": "display_data"
    },
    {
     "data": {
      "text/html": [
       "<span style=\"color: green\">1 rows affected.</span>"
      ],
      "text/plain": [
       "1 rows affected."
      ]
     },
     "metadata": {},
     "output_type": "display_data"
    },
    {
     "data": {
      "text/html": [
       "<span style=\"color: green\">1 rows affected.</span>"
      ],
      "text/plain": [
       "1 rows affected."
      ]
     },
     "metadata": {},
     "output_type": "display_data"
    },
    {
     "data": {
      "text/html": [
       "<span style=\"color: green\">1 rows affected.</span>"
      ],
      "text/plain": [
       "1 rows affected."
      ]
     },
     "metadata": {},
     "output_type": "display_data"
    },
    {
     "data": {
      "text/html": [
       "<span style=\"color: green\">1 rows affected.</span>"
      ],
      "text/plain": [
       "1 rows affected."
      ]
     },
     "metadata": {},
     "output_type": "display_data"
    },
    {
     "data": {
      "text/html": [
       "<span style=\"color: green\">1 rows affected.</span>"
      ],
      "text/plain": [
       "1 rows affected."
      ]
     },
     "metadata": {},
     "output_type": "display_data"
    },
    {
     "data": {
      "text/html": [
       "<span style=\"color: green\">1 rows affected.</span>"
      ],
      "text/plain": [
       "1 rows affected."
      ]
     },
     "metadata": {},
     "output_type": "display_data"
    },
    {
     "data": {
      "text/html": [
       "<span style=\"color: green\">1 rows affected.</span>"
      ],
      "text/plain": [
       "1 rows affected."
      ]
     },
     "metadata": {},
     "output_type": "display_data"
    },
    {
     "data": {
      "text/html": [
       "<span style=\"color: green\">1 rows affected.</span>"
      ],
      "text/plain": [
       "1 rows affected."
      ]
     },
     "metadata": {},
     "output_type": "display_data"
    },
    {
     "data": {
      "text/html": [
       "<span style=\"color: green\">1 rows affected.</span>"
      ],
      "text/plain": [
       "1 rows affected."
      ]
     },
     "metadata": {},
     "output_type": "display_data"
    },
    {
     "data": {
      "text/html": [
       "<span style=\"color: green\">1 rows affected.</span>"
      ],
      "text/plain": [
       "1 rows affected."
      ]
     },
     "metadata": {},
     "output_type": "display_data"
    },
    {
     "data": {
      "text/html": [
       "<span style=\"color: green\">1 rows affected.</span>"
      ],
      "text/plain": [
       "1 rows affected."
      ]
     },
     "metadata": {},
     "output_type": "display_data"
    },
    {
     "data": {
      "text/html": [
       "<span style=\"color: green\">1 rows affected.</span>"
      ],
      "text/plain": [
       "1 rows affected."
      ]
     },
     "metadata": {},
     "output_type": "display_data"
    },
    {
     "data": {
      "text/html": [
       "<table>\n",
       "    <thead>\n",
       "        <tr>\n",
       "        </tr>\n",
       "    </thead>\n",
       "    <tbody>\n",
       "    </tbody>\n",
       "</table>"
      ],
      "text/plain": [
       "++\n",
       "||\n",
       "++\n",
       "++"
      ]
     },
     "execution_count": 3,
     "metadata": {},
     "output_type": "execute_result"
    }
   ],
   "source": [
    "%%sql\n",
    "CREATE TABLE ucl (champion, year);\n",
    "INSERT INTO ucl VALUES ('Real Madrid', 2024);\n",
    "INSERT INTO ucl VALUES ('Manchester City', 2023);\n",
    "INSERT INTO ucl VALUES ('Real Madrid', 2022);\n",
    "INSERT INTO ucl VALUES ('Chelsea', 2021);\n",
    "INSERT INTO ucl VAlUES ('Bayern Munich', 2020);\n",
    "INSERT INTO ucl VALUES ('Liverpool', 2019);\n",
    "INSERT INTO ucl VAlUES ('Real Madrid', 2018);\n",
    "INSERT INTO ucl VALUES ('Real Madrid', 2017);\n",
    "INSERT INTO ucl VALUES ('Real Madrid', 2016);\n",
    "INSERT INTO ucl VALUES ('Barcelona', 2015);\n",
    "INSERT INTO ucl VALUES ('Real Madrid', 2014);\n",
    "INSERT INTO ucl VALUES ('Bayern Munich', 2013);\n",
    "INSERT INTO ucl VALUES ('Chelsea', 2012);\n",
    "INSERT INTO ucl VALUES ('Barcelona', 2011);\n",
    "INSERT INTO ucl VALUES ('Inter Milan', 2010);"
   ]
  },
  {
   "cell_type": "code",
   "execution_count": 4,
   "id": "bac1e9fb-eac2-4ea5-b471-3d68d97a7824",
   "metadata": {
    "execution": {
     "iopub.execute_input": "2024-08-24T11:40:14.588959Z",
     "iopub.status.busy": "2024-08-24T11:40:14.587959Z",
     "iopub.status.idle": "2024-08-24T11:40:16.953903Z",
     "shell.execute_reply": "2024-08-24T11:40:16.949901Z",
     "shell.execute_reply.started": "2024-08-24T11:40:14.588959Z"
    }
   },
   "outputs": [
    {
     "data": {
      "text/html": [
       "<span style=\"None\">Running query in &#x27;sqlite://&#x27;</span>"
      ],
      "text/plain": [
       "Running query in 'sqlite://'"
      ]
     },
     "metadata": {},
     "output_type": "display_data"
    },
    {
     "data": {
      "text/html": [
       "<table>\n",
       "    <thead>\n",
       "        <tr>\n",
       "            <th>champion</th>\n",
       "            <th>year</th>\n",
       "        </tr>\n",
       "    </thead>\n",
       "    <tbody>\n",
       "        <tr>\n",
       "            <td>Real Madrid</td>\n",
       "            <td>2024</td>\n",
       "        </tr>\n",
       "        <tr>\n",
       "            <td>Manchester City</td>\n",
       "            <td>2023</td>\n",
       "        </tr>\n",
       "        <tr>\n",
       "            <td>Real Madrid</td>\n",
       "            <td>2022</td>\n",
       "        </tr>\n",
       "        <tr>\n",
       "            <td>Chelsea</td>\n",
       "            <td>2021</td>\n",
       "        </tr>\n",
       "        <tr>\n",
       "            <td>Bayern Munich</td>\n",
       "            <td>2020</td>\n",
       "        </tr>\n",
       "        <tr>\n",
       "            <td>Liverpool</td>\n",
       "            <td>2019</td>\n",
       "        </tr>\n",
       "        <tr>\n",
       "            <td>Real Madrid</td>\n",
       "            <td>2018</td>\n",
       "        </tr>\n",
       "        <tr>\n",
       "            <td>Real Madrid</td>\n",
       "            <td>2017</td>\n",
       "        </tr>\n",
       "        <tr>\n",
       "            <td>Real Madrid</td>\n",
       "            <td>2016</td>\n",
       "        </tr>\n",
       "        <tr>\n",
       "            <td>Barcelona</td>\n",
       "            <td>2015</td>\n",
       "        </tr>\n",
       "    </tbody>\n",
       "</table>\n",
       "<span style=\"font-style:italic;text-align:center;\">Truncated to <a href=\"https://jupysql.ploomber.io/en/latest/api/configuration.html#displaylimit\">displaylimit</a> of 10.</span>"
      ],
      "text/plain": [
       "+-----------------+------+\n",
       "|     champion    | year |\n",
       "+-----------------+------+\n",
       "|   Real Madrid   | 2024 |\n",
       "| Manchester City | 2023 |\n",
       "|   Real Madrid   | 2022 |\n",
       "|     Chelsea     | 2021 |\n",
       "|  Bayern Munich  | 2020 |\n",
       "|    Liverpool    | 2019 |\n",
       "|   Real Madrid   | 2018 |\n",
       "|   Real Madrid   | 2017 |\n",
       "|   Real Madrid   | 2016 |\n",
       "|    Barcelona    | 2015 |\n",
       "+-----------------+------+\n",
       "Truncated to displaylimit of 10."
      ]
     },
     "execution_count": 4,
     "metadata": {},
     "output_type": "execute_result"
    }
   ],
   "source": [
    "%sql SELECT * FROM ucl"
   ]
  },
  {
   "cell_type": "code",
   "execution_count": 5,
   "id": "18e692f0-f292-4f1b-a208-cf06691e0ccb",
   "metadata": {
    "execution": {
     "iopub.execute_input": "2024-08-24T11:40:16.958882Z",
     "iopub.status.busy": "2024-08-24T11:40:16.957886Z",
     "iopub.status.idle": "2024-08-24T11:40:19.887567Z",
     "shell.execute_reply": "2024-08-24T11:40:19.884493Z",
     "shell.execute_reply.started": "2024-08-24T11:40:16.958882Z"
    }
   },
   "outputs": [
    {
     "data": {
      "text/html": [
       "<span style=\"None\">Running query in &#x27;sqlite://&#x27;</span>"
      ],
      "text/plain": [
       "Running query in 'sqlite://'"
      ]
     },
     "metadata": {},
     "output_type": "display_data"
    },
    {
     "data": {
      "text/html": [
       "<table>\n",
       "    <thead>\n",
       "        <tr>\n",
       "            <th>champion</th>\n",
       "            <th>COUNT(champion)</th>\n",
       "        </tr>\n",
       "    </thead>\n",
       "    <tbody>\n",
       "        <tr>\n",
       "            <td>Real Madrid</td>\n",
       "            <td>6</td>\n",
       "        </tr>\n",
       "        <tr>\n",
       "            <td>Chelsea</td>\n",
       "            <td>2</td>\n",
       "        </tr>\n",
       "        <tr>\n",
       "            <td>Bayern Munich</td>\n",
       "            <td>2</td>\n",
       "        </tr>\n",
       "        <tr>\n",
       "            <td>Barcelona</td>\n",
       "            <td>2</td>\n",
       "        </tr>\n",
       "        <tr>\n",
       "            <td>Manchester City</td>\n",
       "            <td>1</td>\n",
       "        </tr>\n",
       "        <tr>\n",
       "            <td>Liverpool</td>\n",
       "            <td>1</td>\n",
       "        </tr>\n",
       "        <tr>\n",
       "            <td>Inter Milan</td>\n",
       "            <td>1</td>\n",
       "        </tr>\n",
       "    </tbody>\n",
       "</table>"
      ],
      "text/plain": [
       "+-----------------+-----------------+\n",
       "|     champion    | COUNT(champion) |\n",
       "+-----------------+-----------------+\n",
       "|   Real Madrid   |        6        |\n",
       "|     Chelsea     |        2        |\n",
       "|  Bayern Munich  |        2        |\n",
       "|    Barcelona    |        2        |\n",
       "| Manchester City |        1        |\n",
       "|    Liverpool    |        1        |\n",
       "|   Inter Milan   |        1        |\n",
       "+-----------------+-----------------+"
      ]
     },
     "execution_count": 5,
     "metadata": {},
     "output_type": "execute_result"
    }
   ],
   "source": [
    "%sql SELECT champion, COUNT(champion) FROM ucl GROUP BY champion ORDER BY COUNT(champion) DESC"
   ]
  },
  {
   "cell_type": "code",
   "execution_count": 9,
   "id": "3d141cfc-f4fc-4929-bcc7-8aaac6f42945",
   "metadata": {
    "execution": {
     "iopub.execute_input": "2024-08-24T11:42:47.560392Z",
     "iopub.status.busy": "2024-08-24T11:42:47.559393Z",
     "iopub.status.idle": "2024-08-24T11:42:49.576709Z",
     "shell.execute_reply": "2024-08-24T11:42:49.575712Z",
     "shell.execute_reply.started": "2024-08-24T11:42:47.560392Z"
    }
   },
   "outputs": [
    {
     "data": {
      "text/html": [
       "<span style=\"None\">Removing NULLs, if there exists any from champion</span>"
      ],
      "text/plain": [
       "Removing NULLs, if there exists any from champion"
      ]
     },
     "metadata": {},
     "output_type": "display_data"
    },
    {
     "data": {
      "text/plain": [
       "<Axes: title={'center': 'ucl'}>"
      ]
     },
     "execution_count": 9,
     "metadata": {},
     "output_type": "execute_result"
    },
    {
     "data": {
      "image/png": "[encoded data removed]",
      "text/plain": [
       "<Figure size 640x480 with 1 Axes>"
      ]
     },
     "metadata": {},
     "output_type": "display_data"
    }
   ],
   "source": [
    "%sqlplot pie --table ucl --column champion"
   ]
  },
  {
   "cell_type": "code",
   "execution_count": null,
   "id": "341f45e5-a6db-4302-9872-382b88739468",
   "metadata": {},
   "outputs": [],
   "source": []
  }
 ],
 "metadata": {
  "kernelspec": {
   "display_name": "Python 3 (ipykernel)",
   "language": "python",
   "name": "python3"
  },
  "language_info": {
   "codemirror_mode": {
    "name": "ipython",
    "version": 3
   },
   "file_extension": ".py",
   "mimetype": "text/x-python",
   "name": "python",
   "nbconvert_exporter": "python",
   "pygments_lexer": "ipython3",
   "version": "3.11.5"
  }
 },
 "nbformat": 4,
 "nbformat_minor": 5
}
